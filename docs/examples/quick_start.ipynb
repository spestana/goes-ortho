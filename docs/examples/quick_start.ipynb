{
 "cells": [
  {
   "cell_type": "markdown",
   "id": "3aea64b8-4c4c-478f-85a3-a5c36321c4c9",
   "metadata": {},
   "source": [
    "# Quick Start\n",
    "\n",
    "This notebook demonstrates a basic workflow with the goes_ortho package, to download a short time series of GOES-R ABI imagery (the ABI-L1b-RadC product), and build a zarr file.\n",
    "\n",
    "The notebook ends by creating a gif image (with the helpful [geogif](https://geogif.readthedocs.io/en/latest/) package) for us to get a quick preview of the imagery."
   ]
  },
  {
   "cell_type": "code",
   "execution_count": null,
   "id": "5c0d77eb-457b-4b4d-a669-73778a54637e",
   "metadata": {},
   "outputs": [],
   "source": [
    "import goes_ortho as go\n",
    "\n",
    "# we'll use geogif and xarray to look at the imagery\n",
    "import geogif\n",
    "import xarray as xr"
   ]
  },
  {
   "cell_type": "markdown",
   "id": "0e01f57b-bbbe-4ebf-9c25-fff635326c2d",
   "metadata": {},
   "source": [
    "First, specify the time range, location bounds, satellite, product (and if applicable, band and variable) that we'd like to access.\n",
    "\n",
    "We will also need to provide an API key for [OpenTopography.org](https://portal.opentopography.org/requestService?service=api) which you can create with a free account. This allows goes_ortho to access digital elevation models to perform the orthorectification step.\n",
    "\n",
    "The workflow below was developed to read a json file containing information about what we'd like to download. This was done to 1) allow these functions to run through github actions (still an experimental feature) and 2) keep a record of datasets we've downloaded. This is something that may change in the near future since it adds an unnecessary step for most use cases."
   ]
  },
  {
   "cell_type": "code",
   "execution_count": null,
   "id": "28208c5f-e93c-4ce9-b4f7-c4c7ea14e12e",
   "metadata": {},
   "outputs": [],
   "source": [
    "startDatetime = \"2022-08-10T00:00:00Z\"\n",
    "endDatetime = \"2022-08-10T00:59:00Z\"\n",
    "[min_lon, min_lat, max_lon, max_lat] = [-123, 46, -121, 48]\n",
    "satellite = \"goes18\"\n",
    "product = \"ABI-L1b-RadC\"\n",
    "band = 2\n",
    "variable = \"Rad\"\n",
    "OPENTOPO_API_KEY = \"YOUR_API_KEY_HERE\""
   ]
  },
  {
   "cell_type": "markdown",
   "id": "8a4c97cb-b630-4771-8e80-4c7f70c0f1bf",
   "metadata": {},
   "source": [
    "Using the data above, we make the required json file."
   ]
  },
  {
   "cell_type": "code",
   "execution_count": null,
   "id": "cac7ae71-01db-4fa3-9e9f-856b82ff738b",
   "metadata": {},
   "outputs": [],
   "source": [
    "# Make request file from user input\n",
    "go.get_data.make_request_json(\n",
    "    f\"{satellite}-build-zarr-b{band}\",\n",
    "    startDatetime,\n",
    "    endDatetime,\n",
    "    [min_lon, min_lat, max_lon, max_lat],\n",
    "    satellite,\n",
    "    product,\n",
    "    band,\n",
    "    variable,\n",
    "    OPENTOPO_API_KEY,\n",
    ")"
   ]
  },
  {
   "cell_type": "markdown",
   "id": "88adec75-629d-4324-b065-b5782f5d9d06",
   "metadata": {},
   "source": [
    "Now we can provide the json file to the `build_zarr` function. This function downloads, clips, orthorectifies, and merges all imagery into a single zarr file."
   ]
  },
  {
   "cell_type": "code",
   "execution_count": null,
   "id": "faa60edb-76c0-4315-b1df-387819140c24",
   "metadata": {},
   "outputs": [],
   "source": [
    "# Download GOES imagery and build zarr file\n",
    "go.get_data.build_zarr(f\"{satellite}-build-zarr-b{band}.json\")"
   ]
  },
  {
   "cell_type": "markdown",
   "id": "a5365dea-b968-473a-9a74-9404ce628bf4",
   "metadata": {},
   "source": [
    "To preview what our new zarr file looks like, we can open it with xarray, and use geogif to make a little gif animation."
   ]
  },
  {
   "cell_type": "code",
   "execution_count": null,
   "id": "fdb54d4d-1675-4106-becc-2cef6c3715f0",
   "metadata": {},
   "outputs": [],
   "source": [
    "# open the zarr file\n",
    "ds = xr.open_zarr(f\"{satellite}-build-zarr-b{band}.zarr\")\n",
    "# select our variable of interest\n",
    "da = ds[variable]\n",
    "\n",
    "# create the gif animation\n",
    "gif_bytes = geogif.dgif(\n",
    "    da,\n",
    "    fps=5,\n",
    "    cmap=\"Greys_r\",\n",
    "    date_format=\"%Y-%m-%d %H:%M:%S\",\n",
    "    date_position=\"ul\",\n",
    "    bytes=True,\n",
    ").compute()\n",
    "\n",
    "# write gif to file\n",
    "with open(f\"{satellite}-b{band}.gif\", \"wb\") as f:\n",
    "    f.write(gif_bytes)"
   ]
  },
  {
   "cell_type": "markdown",
   "id": "d5a79bd7-8288-4fca-a554-9b863120f6bd",
   "metadata": {},
   "source": [
    "Take a look at the gif image we just made:\n",
    "\n",
    "<img src=\"goes18-b2.gif\" alt=\"GOES-18 animation\" width=\"400\"/>"
   ]
  },
  {
   "cell_type": "code",
   "execution_count": null,
   "id": "790fab98-c526-4369-bbf3-9aeec87d01b5",
   "metadata": {},
   "outputs": [],
   "source": []
  }
 ],
 "metadata": {
  "kernelspec": {
   "display_name": "goes-test-env",
   "language": "python",
   "name": "goes-test-env"
  },
  "language_info": {
   "codemirror_mode": {
    "name": "ipython",
    "version": 3
   },
   "file_extension": ".py",
   "mimetype": "text/x-python",
   "name": "python",
   "nbconvert_exporter": "python",
   "pygments_lexer": "ipython3",
   "version": "3.12.5"
  }
 },
 "nbformat": 4,
 "nbformat_minor": 5
}
