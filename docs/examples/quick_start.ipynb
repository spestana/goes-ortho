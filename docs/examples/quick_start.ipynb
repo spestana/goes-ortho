{
 "cells": [
  {
   "cell_type": "markdown",
   "id": "3aea64b8-4c4c-478f-85a3-a5c36321c4c9",
   "metadata": {},
   "source": [
    "# quick start"
   ]
  },
  {
   "cell_type": "code",
   "execution_count": null,
   "id": "5c0d77eb-457b-4b4d-a669-73778a54637e",
   "metadata": {},
   "outputs": [],
   "source": [
    "import geogif\n",
    "import xarray as xr\n",
    "\n",
    "import goes_ortho as go"
   ]
  },
  {
   "cell_type": "code",
   "execution_count": null,
   "id": "28208c5f-e93c-4ce9-b4f7-c4c7ea14e12e",
   "metadata": {},
   "outputs": [],
   "source": [
    "startDatetime = \"2022-08-10T00:00:00Z\"\n",
    "endDatetime = \"2022-08-10T00:59:00Z\"\n",
    "[min_lon, min_lat, max_lon, max_lat] = [-123, 46, -121, 48]\n",
    "satellite = \"goes18\"\n",
    "product = \"ABI-L1b-RadC\"\n",
    "band = 2\n",
    "variable = \"Rad\"\n",
    "OPENTOPO_API_KEY = \"585b1d1639bc5ef8a4a5bdea7e45a8d1\""
   ]
  },
  {
   "cell_type": "code",
   "execution_count": null,
   "id": "cac7ae71-01db-4fa3-9e9f-856b82ff738b",
   "metadata": {},
   "outputs": [],
   "source": [
    "# Make request file from user input\n",
    "go.get_data.make_request_json(\n",
    "    f\"{satellite}-build-zarr-b{band}\",\n",
    "    startDatetime,\n",
    "    endDatetime,\n",
    "    [min_lon, min_lat, max_lon, max_lat],\n",
    "    satellite,\n",
    "    product,\n",
    "    band,\n",
    "    variable,\n",
    "    OPENTOPO_API_KEY,\n",
    ")"
   ]
  },
  {
   "cell_type": "code",
   "execution_count": null,
   "id": "faa60edb-76c0-4315-b1df-387819140c24",
   "metadata": {},
   "outputs": [],
   "source": [
    "# Download GOES imagery and build zarr file\n",
    "go.get_data.build_zarr(f\"{satellite}-build-zarr-b{band}.json\")"
   ]
  },
  {
   "cell_type": "code",
   "execution_count": null,
   "id": "fdb54d4d-1675-4106-becc-2cef6c3715f0",
   "metadata": {},
   "outputs": [],
   "source": [
    "# make preview gif animation\n",
    "ds = xr.open_zarr(f\"{satellite}-build-zarr-b{band}.zarr\")\n",
    "da = ds[variable]\n",
    "gif_bytes = geogif.dgif(\n",
    "    da,\n",
    "    fps=5,\n",
    "    cmap=\"Greys_r\",\n",
    "    date_format=\"%Y-%m-%d %H:%M:%S\",\n",
    "    date_position=\"ul\",\n",
    "    bytes=True,\n",
    ").compute()\n",
    "with open(f\"{satellite}-b{band}.gif\", \"wb\") as f:\n",
    "    f.write(gif_bytes)"
   ]
  },
  {
   "cell_type": "code",
   "execution_count": null,
   "id": "7b7c948a-b5e3-4694-a4ad-1b2e6d1b6604",
   "metadata": {},
   "outputs": [],
   "source": []
  }
 ],
 "metadata": {
  "kernelspec": {
   "display_name": "goesenv",
   "language": "python",
   "name": "goesenv"
  },
  "language_info": {
   "codemirror_mode": {
    "name": "ipython",
    "version": 3
   },
   "file_extension": ".py",
   "mimetype": "text/x-python",
   "name": "python",
   "nbconvert_exporter": "python",
   "pygments_lexer": "ipython3",
   "version": "3.12.5"
  }
 },
 "nbformat": 4,
 "nbformat_minor": 5
}
